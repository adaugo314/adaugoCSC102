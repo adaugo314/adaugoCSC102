{
 "cells": [
  {
   "cell_type": "code",
   "execution_count": null,
   "id": "e2defdc7",
   "metadata": {},
   "outputs": [],
   "source": [
    "#Program for customers who want to purchase oranges\n",
    "\n",
    "class Orange:\n",
    "    def __init__(self, stock):\n",
    "        self.stock = stock\n",
    "    \n",
    "    def buy_oranges(self, quant\n"
   ]
  },
  {
   "cell_type": "code",
   "execution_count": null,
   "id": "7177ce85",
   "metadata": {},
   "outputs": [],
   "source": []
  }
 ],
 "metadata": {
  "kernelspec": {
   "display_name": "Python 3 (ipykernel)",
   "language": "python",
   "name": "python3"
  },
  "language_info": {
   "codemirror_mode": {
    "name": "ipython",
    "version": 3
   },
   "file_extension": ".py",
   "mimetype": "text/x-python",
   "name": "python",
   "nbconvert_exporter": "python",
   "pygments_lexer": "ipython3",
   "version": "3.10.9"
  }
 },
 "nbformat": 4,
 "nbformat_minor": 5
}
