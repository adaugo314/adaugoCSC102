{
 "cells": [
  {
   "cell_type": "code",
   "execution_count": null,
   "id": "086b674e",
   "metadata": {},
   "outputs": [
    {
     "name": "stdout",
     "output_type": "stream",
     "text": [
      "Current stock quantity: 100\n"
     ]
    }
   ],
   "source": [
    "class OrangeStore:\n",
    "    def __init__(self, stock_quantity):\n",
    "        self.stock_quantity = stock_quantity\n",
    "    \n",
    "    def buy_oranges(self, amount):\n",
    "        if amount > self.stock_quantity:\n",
    "            print(\"Sorry, we don't have enough oranges in stock.\")\n",
    "        else:\n",
    "            self.stock_quantity -= amount\n",
    "            print(\"Thank you for your purchase!\")\n",
    "    \n",
    "    def display_stock(self):\n",
    "        print(\"Current stock quantity:\", self.stock_quantity)\n",
    "\n",
    "\n",
    "# Create an instance of OrangeStore with an initial stock quantity\n",
    "store = OrangeStore(100)\n",
    "\n",
    "# Display initial stock\n",
    "store.display_stock()\n",
    "\n",
    "# Prompt the customer to enter the amount of oranges they want to buy\n",
    "requested_amount = int(input(\"Enter the amount of oranges you want to buy: \"))\n",
    "\n",
    "# Process the purchase\n",
    "store.buy_oranges(requested_amount)\n",
    "\n",
    "# Display the updated stock\n",
    "store.display_stock()\n",
    "\n",
    "# Thank the customer for their patronage\n",
    "print(\"Thank you for shopping with us!\")\n"
   ]
  },
  {
   "cell_type": "code",
   "execution_count": null,
   "id": "b7757e66",
   "metadata": {},
   "outputs": [],
   "source": []
  }
 ],
 "metadata": {
  "kernelspec": {
   "display_name": "Python 3 (ipykernel)",
   "language": "python",
   "name": "python3"
  },
  "language_info": {
   "codemirror_mode": {
    "name": "ipython",
    "version": 3
   },
   "file_extension": ".py",
   "mimetype": "text/x-python",
   "name": "python",
   "nbconvert_exporter": "python",
   "pygments_lexer": "ipython3",
   "version": "3.10.9"
  }
 },
 "nbformat": 4,
 "nbformat_minor": 5
}
