{
 "cells": [
  {
   "cell_type": "code",
   "execution_count": 1,
   "id": "95f855fd",
   "metadata": {},
   "outputs": [
    {
     "ename": "ModuleNotFoundError",
     "evalue": "No module named 'Theano'",
     "output_type": "error",
     "traceback": [
      "\u001b[1;31m---------------------------------------------------------------------------\u001b[0m",
      "\u001b[1;31mModuleNotFoundError\u001b[0m                       Traceback (most recent call last)",
      "Cell \u001b[1;32mIn[1], line 1\u001b[0m\n\u001b[1;32m----> 1\u001b[0m \u001b[38;5;28;01mimport\u001b[39;00m \u001b[38;5;21;01mTheano\u001b[39;00m \u001b[38;5;28;01mas\u001b[39;00m \u001b[38;5;21;01mT\u001b[39;00m\n\u001b[0;32m      2\u001b[0m \u001b[38;5;66;03m# covert to float\u001b[39;00m\n\u001b[0;32m      3\u001b[0m \u001b[38;5;66;03m# coefficent of cubic equation in the form ax^3 + bx^2 + cx + d = 0\u001b[39;00m\n\u001b[0;32m      5\u001b[0m a \u001b[38;5;241m=\u001b[39m \u001b[38;5;28mfloat\u001b[39m(\u001b[38;5;28minput\u001b[39m(\u001b[38;5;124m\"\u001b[39m\u001b[38;5;124mcoefficent of x^3\u001b[39m\u001b[38;5;124m\"\u001b[39m))\n",
      "\u001b[1;31mModuleNotFoundError\u001b[0m: No module named 'Theano'"
     ]
    }
   ],
   "source": [
    "import Theano as T\n",
    "# covert to float\n",
    "# coefficent of cubic equation in the form ax^3 + bx^2 + cx + d = 0\n",
    "\n",
    "a = float(input(\"coefficent of x^3\"))\n",
    "b = float(input(\"coefficent of x^2\"))\n",
    "c = float(input(\"coefficent of x:\"))\n",
    "d = float(input(\"constant\"))\n",
    "\n",
    "# solve the cubic equation\n",
    "coeffs = [a,b,c,d]\n",
    "roots = T.roots(coeffs)\n",
    "\n",
    "# print the roots of the cubic equation\n",
    "print(\"the roots of the cubic equation are:\",roots)"
   ]
  },
  {
   "cell_type": "code",
   "execution_count": null,
   "id": "d3747497",
   "metadata": {},
   "outputs": [],
   "source": []
  }
 ],
 "metadata": {
  "kernelspec": {
   "display_name": "Python 3 (ipykernel)",
   "language": "python",
   "name": "python3"
  },
  "language_info": {
   "codemirror_mode": {
    "name": "ipython",
    "version": 3
   },
   "file_extension": ".py",
   "mimetype": "text/x-python",
   "name": "python",
   "nbconvert_exporter": "python",
   "pygments_lexer": "ipython3",
   "version": "3.10.9"
  }
 },
 "nbformat": 4,
 "nbformat_minor": 5
}
