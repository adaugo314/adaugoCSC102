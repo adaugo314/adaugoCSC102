{
 "cells": [
  {
   "cell_type": "code",
   "execution_count": null,
   "id": "a9d75fa7",
   "metadata": {},
   "outputs": [],
   "source": [
    "import Theano as T\n",
    "#convert to float\n",
    "#coefficent of the cubic equation in the form ax^3 + bx^2 + cx + d = 0\n",
    "\n",
    "a = float(input(\"coefficent of x^3\"))\n",
    "b = float(input(\"coefficent of x^2\"))\n",
    "c = float(input(\"coefficent of x\"))\n",
    "d = float(input(\"constant\"))\n",
    "\n",
    "#solve the cubic equation\n",
    "coefficent = [a,b,c,d]\n",
    "roots = T.roots(coefficent)\n",
    "\n",
    "#Print the roots of the cubic equation\n",
    "print(\"the roots of the cubic equation are:\", roots)"
   ]
  },
  {
   "cell_type": "code",
   "execution_count": null,
   "id": "cf2a1912",
   "metadata": {},
   "outputs": [],
   "source": []
  },
  {
   "cell_type": "code",
   "execution_count": null,
   "id": "57226466",
   "metadata": {},
   "outputs": [],
   "source": []
  }
 ],
 "metadata": {
  "kernelspec": {
   "display_name": "Python 3 (ipykernel)",
   "language": "python",
   "name": "python3"
  },
  "language_info": {
   "codemirror_mode": {
    "name": "ipython",
    "version": 3
   },
   "file_extension": ".py",
   "mimetype": "text/x-python",
   "name": "python",
   "nbconvert_exporter": "python",
   "pygments_lexer": "ipython3",
   "version": "3.10.9"
  }
 },
 "nbformat": 4,
 "nbformat_minor": 5
}
