{
 "cells": [
  {
   "cell_type": "code",
   "execution_count": 2,
   "id": "82b678ba",
   "metadata": {},
   "outputs": [
    {
     "name": "stdout",
     "output_type": "stream",
     "text": [
      "coefficent of x^32\n",
      "coefficent of x^26\n",
      "coefficent of x:8\n",
      "constant4\n",
      "the roots of the cubic equation are: [-1.+1.j -1.-1.j -1.+0.j]\n"
     ]
    }
   ],
   "source": [
    "import numpy as np\n",
    "#convert to float\n",
    "#coefficent of the cubic equation in the form ax^3 + bx^2 + cx + d = 0\n",
    "\n",
    "a = float(input(\"coefficent of x^3\"))\n",
    "b = float(input(\"coefficent of x^2\"))\n",
    "c = float(input(\"coefficent of x:\"))\n",
    "d = float(input(\"constant\"))\n",
    "\n",
    "#solve the cubic equation\n",
    "coeffs = [a,b,c,d]\n",
    "roots = np.roots(coeffs)\n",
    "\n",
    "#print the roots\n",
    "print(\"the roots of the cubic equation are:\",roots)"
   ]
  },
  {
   "cell_type": "code",
   "execution_count": null,
   "id": "d035d791",
   "metadata": {},
   "outputs": [],
   "source": [
    "import numpy as np\n",
    "#convert to float\n",
    "#coefficient of the quartic equation in the form ax^4 + bx^3 + cx^2 + dx + e = 0\n",
    "\n",
    "a = float(input(\"coefficient of x^4\"))\n",
    "b = float(input(\"coefficient of x^3\"))\n",
    "c = float(input(\"coefficient of x^2\"))\n",
    "d = float(input(\"coefficent of x:\"))\n",
    "e = float(input(\"constant\"))\n",
    "\n",
    "#solve the quartic equation\n",
    "coeffs = [a,b,c,d,e]\n",
    "roots = np.roots(coeffs)\n",
    "\n",
    "#print the roots\n",
    "print(\"the roots of the quartic equation are:\",roots)\n"
   ]
  },
  {
   "cell_type": "code",
   "execution_count": null,
   "id": "b97a6e90",
   "metadata": {},
   "outputs": [],
   "source": []
  }
 ],
 "metadata": {
  "kernelspec": {
   "display_name": "Python 3 (ipykernel)",
   "language": "python",
   "name": "python3"
  },
  "language_info": {
   "codemirror_mode": {
    "name": "ipython",
    "version": 3
   },
   "file_extension": ".py",
   "mimetype": "text/x-python",
   "name": "python",
   "nbconvert_exporter": "python",
   "pygments_lexer": "ipython3",
   "version": "3.10.9"
  }
 },
 "nbformat": 4,
 "nbformat_minor": 5
}
