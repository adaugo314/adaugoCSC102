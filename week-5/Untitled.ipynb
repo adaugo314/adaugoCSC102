{
 "cells": [
  {
   "cell_type": "code",
   "execution_count": 20,
   "id": "da1a2987",
   "metadata": {},
   "outputs": [
    {
     "ename": "TypeError",
     "evalue": "'module' object is not callable",
     "output_type": "error",
     "traceback": [
      "\u001b[1;31m---------------------------------------------------------------------------\u001b[0m",
      "\u001b[1;31mTypeError\u001b[0m                                 Traceback (most recent call last)",
      "Cell \u001b[1;32mIn[20], line 5\u001b[0m\n\u001b[0;32m      1\u001b[0m \u001b[38;5;28;01mimport\u001b[39;00m \u001b[38;5;21;01mtabulate\u001b[39;00m\n\u001b[0;32m      3\u001b[0m girls \u001b[38;5;241m=\u001b[39m [{ \u001b[38;5;124m\"\u001b[39m\u001b[38;5;124mSamantha\u001b[39m\u001b[38;5;124m\"\u001b[39m, \u001b[38;5;241m17\u001b[39m , \u001b[38;5;241m5.5\u001b[39m , \u001b[38;5;241m80\u001b[39m}, {\u001b[38;5;124m\"\u001b[39m\u001b[38;5;124mJada\u001b[39m\u001b[38;5;124m\"\u001b[39m, \u001b[38;5;241m16\u001b[39m, \u001b[38;5;241m6.0\u001b[39m, \u001b[38;5;241m85\u001b[39m}, {\u001b[38;5;124m\"\u001b[39m\u001b[38;5;124mJane\u001b[39m\u001b[38;5;124m\"\u001b[39m, \u001b[38;5;241m17\u001b[39m , \u001b[38;5;241m5.4\u001b[39m , \u001b[38;5;241m70\u001b[39m}, {\u001b[38;5;124m\"\u001b[39m\u001b[38;5;124mClaire\u001b[39m\u001b[38;5;124m\"\u001b[39m, \u001b[38;5;241m18\u001b[39m , \u001b[38;5;241m5.9\u001b[39m , \u001b[38;5;241m60\u001b[39m}, {\u001b[38;5;124m\"\u001b[39m\u001b[38;5;124mElizabeth\u001b[39m\u001b[38;5;124m\"\u001b[39m, \u001b[38;5;241m16\u001b[39m , \u001b[38;5;241m5.6\u001b[39m , \u001b[38;5;241m76\u001b[39m},{\u001b[38;5;124m\"\u001b[39m\u001b[38;5;124mMary\u001b[39m\u001b[38;5;124m\"\u001b[39m,\u001b[38;5;241m18\u001b[39m,\u001b[38;5;241m5.5\u001b[39m,\u001b[38;5;241m66\u001b[39m},{\u001b[38;5;124m\"\u001b[39m\u001b[38;5;124mSusan\u001b[39m\u001b[38;5;124m\"\u001b[39m, \u001b[38;5;241m17\u001b[39m , \u001b[38;5;241m6.1\u001b[39m , \u001b[38;5;241m87\u001b[39m},{\u001b[38;5;124m\"\u001b[39m\u001b[38;5;124mwaje\u001b[39m\u001b[38;5;124m\"\u001b[39m, \u001b[38;5;241m20\u001b[39m, \u001b[38;5;241m6.0\u001b[39m, \u001b[38;5;241m95\u001b[39m},{\u001b[38;5;124m\"\u001b[39m\u001b[38;5;124mTaibat\u001b[39m\u001b[38;5;124m\"\u001b[39m, \u001b[38;5;241m19\u001b[39m, \u001b[38;5;241m5.7\u001b[39m, \u001b[38;5;241m50\u001b[39m},{\u001b[38;5;124m\"\u001b[39m\u001b[38;5;124mLillian\u001b[39m\u001b[38;5;124m\"\u001b[39m, \u001b[38;5;241m17\u001b[39m, \u001b[38;5;241m5.5\u001b[39m, \u001b[38;5;241m49\u001b[39m}]\n\u001b[1;32m----> 5\u001b[0m table \u001b[38;5;241m=\u001b[39m \u001b[43mtabulate\u001b[49m\u001b[43m \u001b[49m\u001b[43m(\u001b[49m\u001b[43m{\u001b[49m\u001b[38;5;124;43m\"\u001b[39;49m\u001b[38;5;124;43mName\u001b[39;49m\u001b[38;5;124;43m\"\u001b[39;49m\u001b[43m,\u001b[49m\u001b[43m \u001b[49m\u001b[38;5;124;43m\"\u001b[39;49m\u001b[38;5;124;43mAge\u001b[39;49m\u001b[38;5;124;43m\"\u001b[39;49m\u001b[43m,\u001b[49m\u001b[43m \u001b[49m\u001b[38;5;124;43m\"\u001b[39;49m\u001b[38;5;124;43mHeight\u001b[39;49m\u001b[38;5;124;43m\"\u001b[39;49m\u001b[43m,\u001b[49m\u001b[38;5;124;43m\"\u001b[39;49m\u001b[38;5;124;43mScore\u001b[39;49m\u001b[38;5;124;43m\"\u001b[39;49m\u001b[43m}\u001b[49m\u001b[43m)\u001b[49m\n\u001b[0;32m      8\u001b[0m \u001b[38;5;28;01mfor\u001b[39;00m rec \u001b[38;5;129;01min\u001b[39;00m girls:\n\u001b[0;32m      9\u001b[0m     table\u001b[38;5;241m.\u001b[39madd_rows(rec)\n",
      "\u001b[1;31mTypeError\u001b[0m: 'module' object is not callable"
     ]
    }
   ],
   "source": [
    "import tabulate\n",
    "\n",
    "girls = [{ \"Samantha\", 17 , 5.5 , 80}, {\"Jada\", 16, 6.0, 85}, {\"Jane\", 17 , 5.4 , 70}, {\"Claire\", 18 , 5.9 , 60}, {\"Elizabeth\", 16 , 5.6 , 76},{\"Mary\",18,5.5,66},{\"Susan\", 17 , 6.1 , 87},{\"waje\", 20, 6.0, 95},{\"Taibat\", 19, 5.7, 50},{\"Lillian\", 17, 5.5, 49}]\n",
    "\n",
    "table = tabulate ({\"Name\", \"Age\", \"Height\",\"Score\"})\n",
    "\n",
    "\n",
    "for rec in girls:\n",
    "    table.add_rows(rec)\n",
    "    \n",
    "    print(table)\n",
    "    \n",
    "boys = [{\"Charles\",19,5.7,74},{\"Jude\",16,5.9,87},{\"James\",18,5.8,75},{\"Kelvin\",17,6.1,68},{\"Biodun\",20,5.9,66},{\"Wale\",19,5.5,78},{\"Kunle\",16,6.1,87},{\"Matthew\",18,5.4,98},{\"Tom\",17,5.8,54},{\"Kayode\",19,5.7,60}]\n",
    "\n",
    "table = tabulate ({'Name','Age', 'Height', 'Score'})\n",
    "\n",
    "for rec in boys:\n",
    "    table.add_rows(rec)\n",
    "    \n",
    "    print(table)\n",
    "    \n",
    " "
   ]
  }
 ],
 "metadata": {
  "kernelspec": {
   "display_name": "Python 3 (ipykernel)",
   "language": "python",
   "name": "python3"
  },
  "language_info": {
   "codemirror_mode": {
    "name": "ipython",
    "version": 3
   },
   "file_extension": ".py",
   "mimetype": "text/x-python",
   "name": "python",
   "nbconvert_exporter": "python",
   "pygments_lexer": "ipython3",
   "version": "3.10.9"
  }
 },
 "nbformat": 4,
 "nbformat_minor": 5
}
